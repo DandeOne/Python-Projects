{
  "cells": [
    {
      "metadata": {
        "_uuid": "bf5ffce651081889636f614485874f3e369b8a05"
      },
      "cell_type": "markdown",
      "source": "**[Pandas Course Home Page](https://www.kaggle.com/learn/pandas)**\n\n---\n"
    },
    {
      "metadata": {
        "collapsed": true,
        "_uuid": "3b130b5be1242fd4941f7e46035da3cc3377dc4a"
      },
      "cell_type": "markdown",
      "source": "# Data types and missing data workbook\n\n## Introduction\n\nThis is the workbook component of the \"Data types and missing data\" section of the tutorial.\n\n# Relevant Resources\n- [Data Types and Missing Data Reference](https://www.kaggle.com/residentmario/data-types-and-missing-data-reference)\n\n# Set Up\n\nRun the following cell to load your data and some utility functions."
    },
    {
      "metadata": {
        "trusted": true,
        "_uuid": "db1c4767499342df517a476aa7aa9d58d441aee5"
      },
      "cell_type": "code",
      "source": "import pandas as pd\n\nreviews = pd.read_csv(\"../input/wine-reviews/winemag-data-130k-v2.csv\", index_col=0)\n\nfrom learntools.core import binder; binder.bind(globals())\nfrom learntools.pandas.data_types_and_missing_data import *\nprint(\"Setup complete.\")",
      "execution_count": null,
      "outputs": []
    },
    {
      "metadata": {
        "_uuid": "1ea220c919ba35b3f2f3d412ed2d59732a271cd2"
      },
      "cell_type": "markdown",
      "source": "# Exercises"
    },
    {
      "metadata": {
        "_uuid": "c10097162fff527d661d2a57e60c10964d98625c"
      },
      "cell_type": "markdown",
      "source": "## 1. \nWhat is the data type of the `points` column in the dataset?"
    },
    {
      "metadata": {
        "trusted": true,
        "_uuid": "e5c1721e164aa17e0c50c2b6098491ccd20ed6ba"
      },
      "cell_type": "code",
      "source": "# Your code here\ndtype = reviews.points.dtype\n\nq1.check()",
      "execution_count": null,
      "outputs": []
    },
    {
      "metadata": {
        "trusted": false,
        "_uuid": "667531d3e2a100867488fd0ccdaf255e654b724c"
      },
      "cell_type": "code",
      "source": "#q1.hint()\n#q1.solution()",
      "execution_count": null,
      "outputs": []
    },
    {
      "metadata": {
        "_uuid": "d94c4936dfd0ae2a6cb71b253270e7cdfd82773d"
      },
      "cell_type": "markdown",
      "source": "## 2. \nCreate a `Series` from entries in the `points` column, but convert the entries to strings. Hint: strings are `str` in native Python."
    },
    {
      "metadata": {
        "trusted": false,
        "_uuid": "5a3b7b2dad7a0dfa8d727bc7d04d9680eadf8334"
      },
      "cell_type": "code",
      "source": "point_strings = ____\n\nq2.check()",
      "execution_count": null,
      "outputs": []
    },
    {
      "metadata": {
        "trusted": false,
        "_uuid": "1afb0422552a9ad17ba3fbd3df417c41907166c8"
      },
      "cell_type": "code",
      "source": "#q2.hint()\n#q2.solution()",
      "execution_count": null,
      "outputs": []
    },
    {
      "metadata": {
        "_uuid": "d06fdfbf4ee88c9b8e1507e5d76514dc20ed33d5"
      },
      "cell_type": "markdown",
      "source": "## 3.\nSometimes the price column is null. How many reviews in the dataset are missing a price?"
    },
    {
      "metadata": {
        "trusted": false,
        "_uuid": "25b2fcd39f588ed72de1e9a0ede29e705820590c"
      },
      "cell_type": "code",
      "source": "n_missing_prices = ____\n\nq3.check()",
      "execution_count": null,
      "outputs": []
    },
    {
      "metadata": {
        "trusted": false,
        "_uuid": "feb7735ab59f20b4d9f9e0fd64fe71fb6dcd0c63"
      },
      "cell_type": "code",
      "source": "#q3.hint()\n#q3.solution()",
      "execution_count": null,
      "outputs": []
    },
    {
      "metadata": {
        "_uuid": "2df9c0a1a5722556e90a1c5e83c5ed7b90530257"
      },
      "cell_type": "markdown",
      "source": "## 4.\nWhat are the most common wine-producing regions? Create a `Series` counting the number of times each value occurs in the `region_1` field. This field is often missing data, so replace missing values with `Unknown`. Sort in descending order.  Your output should look something like this:\n\n```\nUnknown                    21247\nNapa Valley                 4480\n                           ...  \nBardolino Superiore            1\nPrimitivo del Tarantino        1\nName: region_1, Length: 1230, dtype: int64\n```"
    },
    {
      "metadata": {
        "trusted": false,
        "_uuid": "3e8f988be6f7d06ecdb85999e67499e5c79c0d40"
      },
      "cell_type": "code",
      "source": "reviews_per_region = ____\n\nq4.check()",
      "execution_count": null,
      "outputs": []
    },
    {
      "metadata": {
        "trusted": false,
        "_uuid": "9defa70fcb624c75336c1de17e2b5997277d1202"
      },
      "cell_type": "code",
      "source": "#q4.hint()\n#q4.solution()",
      "execution_count": null,
      "outputs": []
    },
    {
      "metadata": {
        "_uuid": "3703f19c049de7384c5d277ad78f52bcc0644d41"
      },
      "cell_type": "markdown",
      "source": "# Keep going\nMove on to the **[Renaming and combining workbook](https://www.kaggle.com/kernels/fork/638064)**."
    },
    {
      "metadata": {
        "_uuid": "b1f29d815feddc45636cc0c176c095b7d1bde1bc"
      },
      "cell_type": "markdown",
      "source": "---\n**[Pandas Course Home Page](https://www.kaggle.com/learn/pandas)**\n\n"
    }
  ],
  "metadata": {
    "kernelspec": {
      "display_name": "Python 3",
      "language": "python",
      "name": "python3"
    },
    "language_info": {
      "name": "python",
      "version": "3.6.6",
      "mimetype": "text/x-python",
      "codemirror_mode": {
        "name": "ipython",
        "version": 3
      },
      "pygments_lexer": "ipython3",
      "nbconvert_exporter": "python",
      "file_extension": ".py"
    }
  },
  "nbformat": 4,
  "nbformat_minor": 1
}