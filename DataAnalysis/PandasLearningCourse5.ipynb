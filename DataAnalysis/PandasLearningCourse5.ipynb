{
 "cells": [
  {
   "cell_type": "markdown",
   "metadata": {
    "_uuid": "bf5ffce651081889636f614485874f3e369b8a05"
   },
   "source": [
    "**[Pandas Course Home Page](https://www.kaggle.com/learn/pandas)**\n",
    "\n",
    "---\n"
   ]
  },
  {
   "cell_type": "markdown",
   "metadata": {
    "_uuid": "3b130b5be1242fd4941f7e46035da3cc3377dc4a",
    "collapsed": true
   },
   "source": [
    "# Data types and missing data workbook\n",
    "\n",
    "## Introduction\n",
    "\n",
    "This is the workbook component of the \"Data types and missing data\" section of the tutorial.\n",
    "\n",
    "# Relevant Resources\n",
    "- [Data Types and Missing Data Reference](https://www.kaggle.com/residentmario/data-types-and-missing-data-reference)\n",
    "\n",
    "# Set Up\n",
    "\n",
    "Run the following cell to load your data and some utility functions."
   ]
  },
  {
   "cell_type": "code",
   "execution_count": null,
   "metadata": {
    "_uuid": "db1c4767499342df517a476aa7aa9d58d441aee5"
   },
   "outputs": [],
   "source": [
    "import pandas as pd\n",
    "\n",
    "reviews = pd.read_csv(\"../input/wine-reviews/winemag-data-130k-v2.csv\", index_col=0)\n",
    "\n",
    "from learntools.core import binder; binder.bind(globals())\n",
    "from learntools.pandas.data_types_and_missing_data import *\n",
    "print(\"Setup complete.\")"
   ]
  },
  {
   "cell_type": "markdown",
   "metadata": {
    "_uuid": "1ea220c919ba35b3f2f3d412ed2d59732a271cd2"
   },
   "source": [
    "# Exercises"
   ]
  },
  {
   "cell_type": "markdown",
   "metadata": {
    "_uuid": "c10097162fff527d661d2a57e60c10964d98625c"
   },
   "source": [
    "## 1. \n",
    "What is the data type of the `points` column in the dataset?"
   ]
  },
  {
   "cell_type": "code",
   "execution_count": null,
   "metadata": {
    "_uuid": "e5c1721e164aa17e0c50c2b6098491ccd20ed6ba"
   },
   "outputs": [],
   "source": [
    "# Your code here\n",
    "dtype = reviews.points.dtype\n",
    "\n",
    "q1.check()"
   ]
  },
  {
   "cell_type": "code",
   "execution_count": null,
   "metadata": {
    "_uuid": "667531d3e2a100867488fd0ccdaf255e654b724c"
   },
   "outputs": [],
   "source": [
    "#q1.hint()\n",
    "#q1.solution()"
   ]
  },
  {
   "cell_type": "markdown",
   "metadata": {
    "_uuid": "d94c4936dfd0ae2a6cb71b253270e7cdfd82773d"
   },
   "source": [
    "## 2. \n",
    "Create a `Series` from entries in the `points` column, but convert the entries to strings. Hint: strings are `str` in native Python."
   ]
  },
  {
   "cell_type": "code",
   "execution_count": null,
   "metadata": {
    "_uuid": "5a3b7b2dad7a0dfa8d727bc7d04d9680eadf8334"
   },
   "outputs": [],
   "source": [
    "point_strings = reviews.points.astype(str)\n",
    "\n",
    "q2.check()"
   ]
  },
  {
   "cell_type": "code",
   "execution_count": null,
   "metadata": {
    "_uuid": "1afb0422552a9ad17ba3fbd3df417c41907166c8"
   },
   "outputs": [],
   "source": [
    "#q2.hint()\n",
    "#q2.solution()"
   ]
  },
  {
   "cell_type": "markdown",
   "metadata": {
    "_uuid": "d06fdfbf4ee88c9b8e1507e5d76514dc20ed33d5"
   },
   "source": [
    "## 3.\n",
    "Sometimes the price column is null. How many reviews in the dataset are missing a price?"
   ]
  },
  {
   "cell_type": "code",
   "execution_count": null,
   "metadata": {
    "_uuid": "25b2fcd39f588ed72de1e9a0ede29e705820590c"
   },
   "outputs": [],
   "source": [
    "n_missing_prices = reviews.price.isnull().sum()\n",
    "\n",
    "q3.check()"
   ]
  },
  {
   "cell_type": "code",
   "execution_count": null,
   "metadata": {
    "_uuid": "feb7735ab59f20b4d9f9e0fd64fe71fb6dcd0c63"
   },
   "outputs": [],
   "source": [
    "#q3.hint()\n",
    "#q3.solution()"
   ]
  },
  {
   "cell_type": "markdown",
   "metadata": {
    "_uuid": "2df9c0a1a5722556e90a1c5e83c5ed7b90530257"
   },
   "source": [
    "## 4.\n",
    "What are the most common wine-producing regions? Create a `Series` counting the number of times each value occurs in the `region_1` field. This field is often missing data, so replace missing values with `Unknown`. Sort in descending order.  Your output should look something like this:\n",
    "\n",
    "```\n",
    "Unknown                    21247\n",
    "Napa Valley                 4480\n",
    "                           ...  \n",
    "Bardolino Superiore            1\n",
    "Primitivo del Tarantino        1\n",
    "Name: region_1, Length: 1230, dtype: int64\n",
    "```"
   ]
  },
  {
   "cell_type": "code",
   "execution_count": null,
   "metadata": {
    "_uuid": "3e8f988be6f7d06ecdb85999e67499e5c79c0d40"
   },
   "outputs": [],
   "source": [
    "reviews_per_region = reviews.region_1.fillna(\"Unknown\").value_counts().sort_values(ascending=False)\n",
    "\n",
    "q4.check()"
   ]
  },
  {
   "cell_type": "code",
   "execution_count": null,
   "metadata": {
    "_uuid": "9defa70fcb624c75336c1de17e2b5997277d1202"
   },
   "outputs": [],
   "source": [
    "#q4.hint()\n",
    "#q4.solution()"
   ]
  },
  {
   "cell_type": "markdown",
   "metadata": {
    "_uuid": "3703f19c049de7384c5d277ad78f52bcc0644d41"
   },
   "source": [
    "# Keep going\n",
    "Move on to the **[Renaming and combining workbook](https://www.kaggle.com/kernels/fork/638064)**."
   ]
  },
  {
   "cell_type": "markdown",
   "metadata": {
    "_uuid": "b1f29d815feddc45636cc0c176c095b7d1bde1bc"
   },
   "source": [
    "---\n",
    "**[Pandas Course Home Page](https://www.kaggle.com/learn/pandas)**\n",
    "\n"
   ]
  }
 ],
 "metadata": {
  "kernelspec": {
   "display_name": "Python 3",
   "language": "python",
   "name": "python3"
  },
  "language_info": {
   "codemirror_mode": {
    "name": "ipython",
    "version": 3
   },
   "file_extension": ".py",
   "mimetype": "text/x-python",
   "name": "python",
   "nbconvert_exporter": "python",
   "pygments_lexer": "ipython3",
   "version": "3.6.8"
  },
  "toc": {
   "base_numbering": 1,
   "nav_menu": {},
   "number_sections": true,
   "sideBar": true,
   "skip_h1_title": false,
   "title_cell": "Table of Contents",
   "title_sidebar": "Contents",
   "toc_cell": false,
   "toc_position": {},
   "toc_section_display": true,
   "toc_window_display": false
  }
 },
 "nbformat": 4,
 "nbformat_minor": 1
}
