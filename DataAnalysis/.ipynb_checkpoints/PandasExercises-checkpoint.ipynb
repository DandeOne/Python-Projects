{
 "cells": [
  {
   "cell_type": "markdown",
   "metadata": {},
   "source": [
    "### Short intro\n",
    "\n",
    "Few queries to get used to the Pandas"
   ]
  },
  {
   "cell_type": "code",
   "execution_count": 2,
   "metadata": {},
   "outputs": [],
   "source": [
    "import matplotlib.pyplot as plt\n",
    "import pandas as pd\n",
    "import numpy as np\n",
    "from pandas import Series, DataFrame\n",
    "%matplotlib inline"
   ]
  },
  {
   "cell_type": "code",
   "execution_count": 3,
   "metadata": {},
   "outputs": [],
   "source": [
    "customers = pd.read_csv(\"customer.txt\", sep='\\t')"
   ]
  },
  {
   "cell_type": "code",
   "execution_count": 4,
   "metadata": {},
   "outputs": [],
   "source": [
    "orders = pd.read_csv(\"orders.txt\", encoding='cp1251', sep='\\t')"
   ]
  },
  {
   "cell_type": "code",
   "execution_count": 4,
   "metadata": {},
   "outputs": [
    {
     "data": {
      "text/html": [
       "<div>\n",
       "<style scoped>\n",
       "    .dataframe tbody tr th:only-of-type {\n",
       "        vertical-align: middle;\n",
       "    }\n",
       "\n",
       "    .dataframe tbody tr th {\n",
       "        vertical-align: top;\n",
       "    }\n",
       "\n",
       "    .dataframe thead th {\n",
       "        text-align: right;\n",
       "    }\n",
       "</style>\n",
       "<table border=\"1\" class=\"dataframe\">\n",
       "  <thead>\n",
       "    <tr style=\"text-align: right;\">\n",
       "      <th></th>\n",
       "      <th>customerid</th>\n",
       "      <th>householdid</th>\n",
       "      <th>gender</th>\n",
       "      <th>firstname</th>\n",
       "    </tr>\n",
       "  </thead>\n",
       "  <tbody>\n",
       "    <tr>\n",
       "      <th>0</th>\n",
       "      <td>174596</td>\n",
       "      <td>53949999</td>\n",
       "      <td>M</td>\n",
       "      <td>DANIEL</td>\n",
       "    </tr>\n",
       "    <tr>\n",
       "      <th>1</th>\n",
       "      <td>68239</td>\n",
       "      <td>49927024</td>\n",
       "      <td>M</td>\n",
       "      <td>JIM</td>\n",
       "    </tr>\n",
       "    <tr>\n",
       "      <th>2</th>\n",
       "      <td>10203</td>\n",
       "      <td>20914414</td>\n",
       "      <td>F</td>\n",
       "      <td>DONNA</td>\n",
       "    </tr>\n",
       "  </tbody>\n",
       "</table>\n",
       "</div>"
      ],
      "text/plain": [
       "   customerid  householdid gender firstname\n",
       "0      174596     53949999      M    DANIEL\n",
       "1       68239     49927024      M       JIM\n",
       "2       10203     20914414      F     DONNA"
      ]
     },
     "execution_count": 4,
     "metadata": {},
     "output_type": "execute_result"
    }
   ],
   "source": [
    "customers.head(3)"
   ]
  },
  {
   "cell_type": "code",
   "execution_count": 5,
   "metadata": {},
   "outputs": [
    {
     "data": {
      "text/html": [
       "<div>\n",
       "<style scoped>\n",
       "    .dataframe tbody tr th:only-of-type {\n",
       "        vertical-align: middle;\n",
       "    }\n",
       "\n",
       "    .dataframe tbody tr th {\n",
       "        vertical-align: top;\n",
       "    }\n",
       "\n",
       "    .dataframe thead th {\n",
       "        text-align: right;\n",
       "    }\n",
       "</style>\n",
       "<table border=\"1\" class=\"dataframe\">\n",
       "  <thead>\n",
       "    <tr style=\"text-align: right;\">\n",
       "      <th></th>\n",
       "      <th>orderid</th>\n",
       "      <th>customerid</th>\n",
       "      <th>campaignid</th>\n",
       "      <th>orderdate</th>\n",
       "      <th>city</th>\n",
       "      <th>state</th>\n",
       "      <th>zipcode</th>\n",
       "      <th>paymenttype</th>\n",
       "      <th>totalprice</th>\n",
       "      <th>numorderlines</th>\n",
       "      <th>numunits</th>\n",
       "    </tr>\n",
       "  </thead>\n",
       "  <tbody>\n",
       "    <tr>\n",
       "      <th>0</th>\n",
       "      <td>1002854</td>\n",
       "      <td>45978</td>\n",
       "      <td>2141</td>\n",
       "      <td>2009-10-13 00:00:00</td>\n",
       "      <td>NEWTON</td>\n",
       "      <td>MA</td>\n",
       "      <td>02459</td>\n",
       "      <td>VI</td>\n",
       "      <td>190.00</td>\n",
       "      <td>3</td>\n",
       "      <td>3</td>\n",
       "    </tr>\n",
       "    <tr>\n",
       "      <th>1</th>\n",
       "      <td>1002855</td>\n",
       "      <td>125381</td>\n",
       "      <td>2173</td>\n",
       "      <td>2009-10-13 00:00:00</td>\n",
       "      <td>NEW ROCHELLE</td>\n",
       "      <td>NY</td>\n",
       "      <td>10804</td>\n",
       "      <td>VI</td>\n",
       "      <td>10.00</td>\n",
       "      <td>1</td>\n",
       "      <td>1</td>\n",
       "    </tr>\n",
       "    <tr>\n",
       "      <th>2</th>\n",
       "      <td>1002856</td>\n",
       "      <td>103122</td>\n",
       "      <td>2141</td>\n",
       "      <td>2011-06-02 00:00:00</td>\n",
       "      <td>MIAMI</td>\n",
       "      <td>FL</td>\n",
       "      <td>33137</td>\n",
       "      <td>AE</td>\n",
       "      <td>35.22</td>\n",
       "      <td>2</td>\n",
       "      <td>2</td>\n",
       "    </tr>\n",
       "  </tbody>\n",
       "</table>\n",
       "</div>"
      ],
      "text/plain": [
       "   orderid  customerid  campaignid            orderdate          city state  \\\n",
       "0  1002854       45978        2141  2009-10-13 00:00:00        NEWTON    MA   \n",
       "1  1002855      125381        2173  2009-10-13 00:00:00  NEW ROCHELLE    NY   \n",
       "2  1002856      103122        2141  2011-06-02 00:00:00         MIAMI    FL   \n",
       "\n",
       "  zipcode paymenttype  totalprice  numorderlines  numunits  \n",
       "0   02459          VI      190.00              3         3  \n",
       "1   10804          VI       10.00              1         1  \n",
       "2   33137          AE       35.22              2         2  "
      ]
     },
     "execution_count": 5,
     "metadata": {},
     "output_type": "execute_result"
    }
   ],
   "source": [
    "orders.head(3)"
   ]
  },
  {
   "cell_type": "markdown",
   "metadata": {
    "collapsed": true
   },
   "source": [
    "5 queries for Series"
   ]
  },
  {
   "cell_type": "markdown",
   "metadata": {},
   "source": [
    "Get all customerid who are men"
   ]
  },
  {
   "cell_type": "code",
   "execution_count": 66,
   "metadata": {},
   "outputs": [
    {
     "data": {
      "text/plain": [
       "0         174596\n",
       "1          68239\n",
       "4          68099\n",
       "6         173506\n",
       "9         174650\n",
       "10        174273\n",
       "13        174608\n",
       "14        138942\n",
       "15         67973\n",
       "18        174628\n",
       "20        167813\n",
       "24        174630\n",
       "25        174302\n",
       "26         16268\n",
       "27        174289\n",
       "31        174267\n",
       "33         68245\n",
       "36        117354\n",
       "37        174593\n",
       "38        174423\n",
       "40         70437\n",
       "43        174295\n",
       "46        155053\n",
       "48        174766\n",
       "50        147596\n",
       "51         52009\n",
       "53         56023\n",
       "56        174746\n",
       "57        174714\n",
       "59        176424\n",
       "           ...  \n",
       "189506    174194\n",
       "189507    168589\n",
       "189508    155722\n",
       "189509    174534\n",
       "189510    164899\n",
       "189511    173752\n",
       "189513     68246\n",
       "189514    174300\n",
       "189515    174482\n",
       "189521     43239\n",
       "189522     29028\n",
       "189525     42727\n",
       "189530    174301\n",
       "189532    174285\n",
       "189534     67968\n",
       "189535     78130\n",
       "189536    174636\n",
       "189539    174275\n",
       "189540    174625\n",
       "189541    174483\n",
       "189542    174276\n",
       "189547    173750\n",
       "189549    174649\n",
       "189550     45929\n",
       "189551    174592\n",
       "189554    174268\n",
       "189555    174594\n",
       "189556    139779\n",
       "189557    174256\n",
       "189558    163204\n",
       "Name: customerid, Length: 96481, dtype: int64"
      ]
     },
     "execution_count": 66,
     "metadata": {},
     "output_type": "execute_result"
    }
   ],
   "source": [
    "customers[customers.gender == 'M'].customerid"
   ]
  },
  {
   "cell_type": "markdown",
   "metadata": {},
   "source": [
    "Count all the JIMs"
   ]
  },
  {
   "cell_type": "code",
   "execution_count": 18,
   "metadata": {},
   "outputs": [
    {
     "data": {
      "text/plain": [
       "286"
      ]
     },
     "execution_count": 18,
     "metadata": {},
     "output_type": "execute_result"
    }
   ],
   "source": [
    "customers[customers.firstname == 'JIM'].customerid.count()"
   ]
  },
  {
   "cell_type": "markdown",
   "metadata": {},
   "source": [
    "Maximum of the totalprice from the orders database"
   ]
  },
  {
   "cell_type": "code",
   "execution_count": 19,
   "metadata": {},
   "outputs": [
    {
     "data": {
      "text/plain": [
       "9848.96"
      ]
     },
     "execution_count": 19,
     "metadata": {},
     "output_type": "execute_result"
    }
   ],
   "source": [
    "orders.totalprice.max()"
   ]
  },
  {
   "cell_type": "markdown",
   "metadata": {},
   "source": [
    "Do all clients are in orders database?"
   ]
  },
  {
   "cell_type": "code",
   "execution_count": 5,
   "metadata": {},
   "outputs": [
    {
     "data": {
      "text/plain": [
       "True"
      ]
     },
     "execution_count": 5,
     "metadata": {},
     "output_type": "execute_result"
    }
   ],
   "source": [
    "S1 = set(customers.customerid)\n",
    "S2 = set(orders.customerid)\n",
    "Diff = S1.difference(S2)\n",
    "len(Diff) == 0"
   ]
  },
  {
   "cell_type": "markdown",
   "metadata": {},
   "source": [
    "Get all distinct names from customers"
   ]
  },
  {
   "cell_type": "code",
   "execution_count": 6,
   "metadata": {},
   "outputs": [
    {
     "data": {
      "text/plain": [
       "0            DANIEL\n",
       "1               JIM\n",
       "2             DONNA\n",
       "3             DIONE\n",
       "4            TRISHA\n",
       "5             DANTE\n",
       "6           ANTHONY\n",
       "7             NANCY\n",
       "8              GREG\n",
       "9            NORMAN\n",
       "10               C.\n",
       "11         TERESITA\n",
       "12          DOUGLAS\n",
       "13          RICHARD\n",
       "14             MIKE\n",
       "15         MARGARET\n",
       "16            TERRY\n",
       "17             NICK\n",
       "18          DEBORAH\n",
       "19             ALAN\n",
       "20          BARBARA\n",
       "21              NaN\n",
       "22             KAYE\n",
       "23               T.\n",
       "24           ALFRED\n",
       "25             JOHN\n",
       "26            SHYAM\n",
       "27        PRISCILLA\n",
       "28            DIANE\n",
       "29          ROBERTA\n",
       "            ...    \n",
       "10116        VIRGIE\n",
       "10117          KUNO\n",
       "10118       TERILYN\n",
       "10119        ITAMAR\n",
       "10120      WERONIKA\n",
       "10121      LEIGHANN\n",
       "10122        SHEWIN\n",
       "10123       KHOSROW\n",
       "10124    JEANMAIRIE\n",
       "10125      VIVIANNE\n",
       "10126         SIJUN\n",
       "10127         RUBLE\n",
       "10128        GRATIA\n",
       "10129       SILVIJA\n",
       "10130          DAHL\n",
       "10131         GONCA\n",
       "10132      FERANADO\n",
       "10133        GUYLER\n",
       "10134         ELOIS\n",
       "10135        ILARIA\n",
       "10136        SUTTON\n",
       "10137          DUNN\n",
       "10138        ASTLEY\n",
       "10139      THERESIA\n",
       "10140         CHINA\n",
       "10141         STEIG\n",
       "10142        ANNICK\n",
       "10143          ANDA\n",
       "10144        BERRIE\n",
       "10145       SHIGERU\n",
       "Length: 10146, dtype: object"
      ]
     },
     "execution_count": 6,
     "metadata": {},
     "output_type": "execute_result"
    }
   ],
   "source": [
    "pd.Series(customers.firstname.unique())"
   ]
  },
  {
   "cell_type": "markdown",
   "metadata": {},
   "source": [
    "25 queries for DataFrame"
   ]
  },
  {
   "cell_type": "code",
   "execution_count": 105,
   "metadata": {},
   "outputs": [],
   "source": []
  }
 ],
 "metadata": {
  "kernelspec": {
   "display_name": "Python 3",
   "language": "python",
   "name": "python3"
  },
  "language_info": {
   "codemirror_mode": {
    "name": "ipython",
    "version": 3
   },
   "file_extension": ".py",
   "mimetype": "text/x-python",
   "name": "python",
   "nbconvert_exporter": "python",
   "pygments_lexer": "ipython3",
   "version": "3.6.5"
  }
 },
 "nbformat": 4,
 "nbformat_minor": 2
}
